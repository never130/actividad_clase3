{
 "cells": [
  {
   "cell_type": "markdown",
   "metadata": {},
   "source": [
    "## Contenido del Archivo  \n",
    "\n",
    "-   **Título y Subtítulo:**\n",
    "    \n",
    "    -   Agregar un título descriptivo para el archivo.\n",
    "    -   Incluir un subtítulo que indique el tipo de ejercicios que se van a realizar.\n",
    "-   **Ejercicios de Datos Complejos:**\n",
    "    \n",
    "    1.  **Datos Simples:**\n",
    "        \n",
    "        -   Crear una lista de nombres de ciudades.\n",
    "        -   Crear un diccionario con información de empleados (nombre, cargo, salario).\n",
    "        -   Mostrar cómo acceder a un elemento específico en una lista y en un diccionario.\n",
    "        -   1.  **Manipulación de Listas y Métodos:**\n",
    "                \n",
    "                -   Crea una lista inicial de números enteros.\n",
    "                -   Utiliza el método  `.append()`  para agregar un número al final de la lista.\n",
    "                -   Utiliza el método  `.extend()`  para agregar múltiples elementos a la lista.\n",
    "                -   Utiliza el método  `.insert()`  para insertar un número en una posición específica de la lista.\n",
    "                -   Muestra cómo utilizar el método  `.sort()`  para ordenar la lista de números de forma ascendente.\n",
    "            2.  **Manipulación de Diccionarios y Métodos:**\n",
    "                \n",
    "                -   Crea un diccionario con información de productos (nombre del producto, precio, cantidad en stock).\n",
    "                -   Utiliza el método  `.keys()`  para obtener una lista de las llaves (nombres de productos) en el diccionario.\n",
    "                -   Utiliza el método  `.values()`  para obtener una lista de los valores (precios y cantidades) en el diccionario.\n",
    "                -   Utiliza el método  `.items()`  para obtener una lista de tuplas con pares clave-valor del diccionario.\n",
    "                -   Muestra cómo utilizar el método  `.get()`  para obtener el precio de un producto específico del diccionario.\n",
    "            \n",
    "              \n",
    "            \n",
    "        \n",
    "    2.  **Datos Complejos:**\n",
    "        \n",
    "        -   Crear una lista de diccionarios que represente información de libros (título, autor, año de publicación).\n",
    "        -   Crear un diccionario que contenga listas como valores (por ejemplo, un diccionario de estudiantes y sus materias).\n",
    "        -   Mostrar cómo modificar un valor en una lista dentro de un diccionario y viceversa.\n",
    "        \n",
    "\n",
    "#### Entrega de la Tarea:\n",
    "\n",
    "-   Una vez completado el archivo  `actividad_clase3.ipynb`, subirlo al repositorio  `actividad_clase3`  en GitHub y compartir el link.\n",
    "-   Asegúrense de incluir un archivo  `README.md`  con instrucciones adicionales o comentarios sobre la actividad."
   ]
  },
  {
   "cell_type": "markdown",
   "metadata": {},
   "source": [
    "### Datos Simples"
   ]
  },
  {
   "cell_type": "code",
   "execution_count": 29,
   "metadata": {},
   "outputs": [
    {
     "name": "stdout",
     "output_type": "stream",
     "text": [
      "Acceder a los elementos: Rio Grande, {'Nombre': 'Rocio', 'cargo': 'Desarrolladora', 'salario': 30000}\n"
     ]
    }
   ],
   "source": [
    "# Lista de ciudades\n",
    "ciudades = [\"Rio Grande\", \"Rio Cuarto\", \"Buenos Aires\", \"Cordoba\", \"Ushuaia\"]\n",
    "\n",
    "# Diccionario de empleados\n",
    "empleados = {\n",
    "    1: {\"Nombre\": \"Luz\", \"cargo\": \"Gerente\", \"salario\": 90000},\n",
    "    3: {\"Nombre\": \"María\", \"cargo\": \"Analista\", \"salario\": 55000},\n",
    "    4: {\"Nombre\": \"Lujan\", \"cargo\": \"Desarrolladora\", \"salario\": 30000},\n",
    "    5: {\"Nombre\": \"Mar\", \"cargo\": \"Desarrolladora\", \"salario\": 30000},\n",
    "    6: {\"Nombre\": \"Rocio\", \"cargo\": \"Desarrolladora\", \"salario\": 30000},\n",
    "}\n",
    "\n",
    "# Acceder a los elementos\n",
    "rio_grande = ciudades[0]\n",
    "rocio = empleados[6]\n",
    "print(f\"Acceder a los elementos: {rio_grande}, {rocio}\")\n"
   ]
  },
  {
   "cell_type": "markdown",
   "metadata": {},
   "source": [
    "### Manipulacion de listas y metodos"
   ]
  },
  {
   "cell_type": "code",
   "execution_count": 30,
   "metadata": {},
   "outputs": [
    {
     "name": "stdout",
     "output_type": "stream",
     "text": [
      "Todos los numeros ordenados de forma ascendente: [1, 2, 2.5, 3, 4, 5, 6, 7, 8, 9, 10]\n"
     ]
    }
   ],
   "source": [
    "# Crear una lista inicial de números enteros\n",
    "numeros = [1, 2, 3, 4, 5, 6]\n",
    "\n",
    "# Agregar un número al final de la lista\n",
    "numeros.append(7)\n",
    "\n",
    "# Agregar múltiples elementos a la lista\n",
    "numeros.extend([8, 9, 10])\n",
    "\n",
    "# Insertar un número en una posición específica de la lista\n",
    "numeros.insert(2, 2.5)\n",
    "\n",
    "# Ordenar la lista de números de forma ascendente\n",
    "numeros.sort()\n",
    "\n",
    "print(f\"Todos los numeros ordenados de forma ascendente: {numeros}\")"
   ]
  },
  {
   "cell_type": "markdown",
   "metadata": {},
   "source": [
    "### Manipulación de Diccionarios y Métodos:"
   ]
  },
  {
   "cell_type": "code",
   "execution_count": 31,
   "metadata": {},
   "outputs": [
    {
     "name": "stdout",
     "output_type": "stream",
     "text": [
      "El precio del producto de la Yerba es de $20\n"
     ]
    }
   ],
   "source": [
    "# Crear un diccionario con información de productos\n",
    "productos = {\n",
    "    \"Yerba\": {\"precio\": 20, \"stock\": 2000},\n",
    "    \"Papas Fritas\": {\"precio\": 30, \"stock\": 4000},\n",
    "    \"Gaseosa\": {\"precio\": 15, \"stock\": 8000},\n",
    "}\n",
    "\n",
    "# Obtener una lista de las llaves (nombres de productos) en el diccionario\n",
    "nombres_productos = productos.keys()\n",
    "\n",
    "# Obtener una lista de los valores (precios y cantidades) en el diccionario\n",
    "valores_productos = productos.values()\n",
    "\n",
    "# Obtener una lista de tuplas con pares clave-valor del diccionario\n",
    "items_productos = productos.items()\n",
    "\n",
    "# Obtener el precio de un producto específico del diccionario\n",
    "precio_producto = productos.get(\"Yerba\")[\"precio\"]\n",
    "\n",
    "print(f\"El precio del producto de la Yerba es de ${precio_producto}\")"
   ]
  },
  {
   "cell_type": "markdown",
   "metadata": {},
   "source": [
    "### Datos Complejos:"
   ]
  },
  {
   "cell_type": "code",
   "execution_count": 32,
   "metadata": {},
   "outputs": [
    {
     "name": "stdout",
     "output_type": "stream",
     "text": [
      "[{'título': 'El Señor de los Anillos', 'autor': 'J.R.R. Tolkien', 'año': 1954}, {'título': 'Harry Potter', 'autor': 'J.K. Rowling', 'año': 1998}]\n",
      "{'Marta': ['Física', 'Ciencias', 'Historia'], 'Luciana': ['Lengua', 'Geografía', 'Arte']}\n"
     ]
    }
   ],
   "source": [
    "# Lista de diccionarios que representan información de libros\n",
    "libros = [\n",
    "    {\"título\": \"El Señor de los Anillos\", \"autor\": \"J.R.R. Tolkien\", \"año\": 1954},\n",
    "    {\"título\": \"Harry Potter\", \"autor\": \"J.K. Rowling\", \"año\": 1997},\n",
    "    {\"título\": \"Cien años de soledad\", \"autor\": \"Gabriel García Márquez\", \"año\": 1967},\n",
    "    {\"título\": \"Orgullo y prejuicio\", \"autor\": \"Jane Austen\", \"año\": 1813},\n",
    "]\n",
    "\n",
    "\n",
    "# Diccionario que contiene listas como valores\n",
    "estudiantes = {\n",
    "    \"Marta\": [\"Matemáticas\", \"Ciencias\", \"Programacion\"],\n",
    "    \"Luciana\": [\"Lengua\", \"Geografía\", \"Arte\"],\n",
    "    \"Pedro\": [\"Física\", \"Química\", \"Educación Física\"],\n",
    "    \"Ana\": [\"Inglés\", \"Música\", \"Tecnología\"],\n",
    "}\n",
    "\n",
    "# Modificar un valor en una lista dentro de un diccionario\n",
    "estudiantes[\"Marta\"][0] = \"Física\"\n",
    "\n",
    "# Modificar un valor en un diccionario dentro de una lista\n",
    "libros[1][\"año\"] = 1998\n",
    "\n",
    "print(libros)\n",
    "print(estudiantes)"
   ]
  }
 ],
 "metadata": {
  "kernelspec": {
   "display_name": "Python 3",
   "language": "python",
   "name": "python3"
  },
  "language_info": {
   "codemirror_mode": {
    "name": "ipython",
    "version": 3
   },
   "file_extension": ".py",
   "mimetype": "text/x-python",
   "name": "python",
   "nbconvert_exporter": "python",
   "pygments_lexer": "ipython3",
   "version": "3.12.1"
  }
 },
 "nbformat": 4,
 "nbformat_minor": 2
}
